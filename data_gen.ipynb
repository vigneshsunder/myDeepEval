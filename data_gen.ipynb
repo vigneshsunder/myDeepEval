{
 "cells": [
  {
   "cell_type": "code",
   "execution_count": 1,
   "id": "fa04f8f5",
   "metadata": {},
   "outputs": [
    {
     "name": "stderr",
     "output_type": "stream",
     "text": [
      "d:\\Learning\\myDeepEval\\.venv\\Lib\\site-packages\\deepeval\\__init__.py:53: UserWarning: You are using deepeval version 2.3.7, however version 2.8.2 is available. You should consider upgrading via the \"pip install --upgrade deepeval\" command.\n",
      "  warnings.warn(\n"
     ]
    }
   ],
   "source": [
    "from deepeval.synthesizer import Synthesizer\n",
    "from custom_gemini_llm import CustomGeminiFlash\n",
    "\n",
    "custom_llm = CustomGeminiFlash()\n"
   ]
  },
  {
   "cell_type": "markdown",
   "id": "5ea8875f",
   "metadata": {},
   "source": [
    "Here we are going to generate goldens from contexts"
   ]
  },
  {
   "cell_type": "code",
   "execution_count": null,
   "id": "edafbde9",
   "metadata": {},
   "outputs": [
    {
     "name": "stdout",
     "output_type": "stream",
     "text": [
      "Event loop is already running. Applying nest_asyncio patch to allow async execution...\n"
     ]
    },
    {
     "name": "stderr",
     "output_type": "stream",
     "text": [
      "✨ Generating up to 4 goldens using DeepEval (using Gemini 2.0 Flash, method=default): 100%|██████████| 4/4 [00:29<00:00,  7.41s/it]\n"
     ]
    },
    {
     "data": {
      "text/plain": [
       "[Golden(input='If Earth stopped revolving, what immediate effects would this have on the Sun?\\n', actual_output=None, expected_output='The provided context does not give information about the effects of Earth stopping its revolution on the sun.\\n', context=['The Earth revolves around the Sun.', 'Planets are celestial bodies.'], retrieval_context=None, additional_metadata={'evolutions': ['Hypothetical'], 'synthetic_input_quality': 1.0}, comments=None, tools_called=None, expected_tools=None, source_file=None),\n",
       " Golden(input=\"How does Earth's revolution around the Sun relate to planets being celestial bodies?\\n\", actual_output=None, expected_output=\"The context states the Earth revolves around the Sun and that planets are celestial bodies. It doesn't explain the relationship between these two facts.\\n\", context=['The Earth revolves around the Sun.', 'Planets are celestial bodies.'], retrieval_context=None, additional_metadata={'evolutions': ['Comparative'], 'synthetic_input_quality': 1.0}, comments=None, tools_called=None, expected_tools=None, source_file=None),\n",
       " Golden(input=\"Given water's chemical composition, what temp. (in Celsius) does it transition to a solid state?\\n\", actual_output=None, expected_output='Water freezes at 0 degrees Celsius.\\n', context=['Water freezes at 0 degrees Celsius.', 'The chemical formula for water is H2O.'], retrieval_context=None, additional_metadata={'evolutions': ['Reasoning'], 'synthetic_input_quality': 1.0}, comments=None, tools_called=None, expected_tools=None, source_file=None),\n",
       " Golden(input='At what temp. does water freeze, considering its chemical formula is H2O?\\n', actual_output=None, expected_output='Water freezes at 0 degrees Celsius, and its chemical formula is H2O.\\n', context=['Water freezes at 0 degrees Celsius.', 'The chemical formula for water is H2O.'], retrieval_context=None, additional_metadata={'evolutions': ['Constrained'], 'synthetic_input_quality': 1.0}, comments=None, tools_called=None, expected_tools=None, source_file=None)]"
      ]
     },
     "execution_count": 3,
     "metadata": {},
     "output_type": "execute_result"
    }
   ],
   "source": [
    "synthesizer = Synthesizer(model=custom_llm)\n",
    "synthesizer.generate_goldens_from_contexts(\n",
    "    # Provide a list of context for synthetic data generation\n",
    "    contexts=[\n",
    "        [\"Cancer-associated muscle wasting is associated with reduction in functional status, in response to treatment and in life expectancy.\", \"Methods currently used to assess muscle loss involve diagnostic imaging techniques such as computed tomography (CT), which are costly, inconvenient, invasive, time consuming and have limited ability to detect early or slowly evolving wasting.\"],\n",
    "        [\" Metabolic, neuronal and hormonal controls normally ensure that body weight and composition are maintained constant during adult life.\", \"Involuntary weight gains or losses are significant perturbations of this precise control.\"],\n",
    "    ]\n",
    ")"
   ]
  }
 ],
 "metadata": {
  "kernelspec": {
   "display_name": ".venv",
   "language": "python",
   "name": "python3"
  },
  "language_info": {
   "codemirror_mode": {
    "name": "ipython",
    "version": 3
   },
   "file_extension": ".py",
   "mimetype": "text/x-python",
   "name": "python",
   "nbconvert_exporter": "python",
   "pygments_lexer": "ipython3",
   "version": "3.13.2"
  }
 },
 "nbformat": 4,
 "nbformat_minor": 5
}
